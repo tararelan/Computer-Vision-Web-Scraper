{
 "cells": [
  {
   "cell_type": "code",
   "execution_count": null,
   "metadata": {},
   "outputs": [],
   "source": [
    "import pandas as pd\n",
    "import shutil"
   ]
  },
  {
   "cell_type": "code",
   "execution_count": null,
   "metadata": {},
   "outputs": [],
   "source": [
    "spreadsheet_path = ''\n",
    "sheet_name = 'cancelled'\n",
    "\n",
    "df = pd.read_excel(spreadsheet_path, sheet_name=sheet_name)\n",
    "filenames = df['filename'].tolist()"
   ]
  },
  {
   "cell_type": "code",
   "execution_count": null,
   "metadata": {},
   "outputs": [],
   "source": [
    "source_folder = 'Images\\\\test'\n",
    "dest_folder = 'Images\\\\test\\\\failed'\n",
    "\n",
    "for filename in filenames:\n",
    "    source_path = f'{source_folder}\\\\{filename}'\n",
    "    destination_path = f'{dest_folder}\\\\{filename}'\n",
    "    shutil.move(source_path, destination_path)"
   ]
  },
  {
   "cell_type": "code",
   "execution_count": null,
   "metadata": {},
   "outputs": [],
   "source": [
    "import os\n",
    "import random\n",
    "import shutil\n",
    "\n",
    "image_folder = 'Images/val'\n",
    "txt_folder = 'Images/val/labels'\n",
    "train_folder = 'Images/val/train'\n",
    "\n",
    "os.makedirs(train_folder, exist_ok=True)\n",
    "\n",
    "image_files = os.listdir(image_folder)\n",
    "\n",
    "num_images_to_move = int(len(image_files) * 0.8)\n",
    "selected_images = random.sample(image_files, num_images_to_move)\n",
    "\n",
    "for image_file in selected_images:\n",
    "    image_name = os.path.splitext(image_file)[0]\n",
    "    txt_file = image_name + '.txt'\n",
    "        \n",
    "    if os.path.isfile(os.path.join(txt_folder, txt_file)):\n",
    "        shutil.move(os.path.join(image_folder, image_file), os.path.join(train_folder, image_file))\n",
    "        shutil.move(os.path.join(txt_folder, txt_file), os.path.join(train_folder, txt_file))\n",
    "        print(f\"Moved {image_file} and {txt_file} to {train_folder}\")\n",
    "    else:\n",
    "        print(f\"No corresponding .txt file found for {image_file}\")"
   ]
  },
  {
   "cell_type": "code",
   "execution_count": null,
   "metadata": {},
   "outputs": [],
   "source": [
    "import os\n",
    "import shutil\n",
    "\n",
    "train_folder = \"train\"\n",
    "image_folder = \"Images\\\\train\\\\\"\n",
    "\n",
    "txt_files = [file for file in os.listdir(train_folder) if file.endswith(\".txt\")]\n",
    "\n",
    "for txt_file in txt_files:\n",
    "    image_file = os.path.splitext(txt_file)[0] + \".png\"\n",
    "    image_path = os.path.join(image_folder, image_file)\n",
    "    \n",
    "    destination = os.path.join(train_folder, image_file)\n",
    "    shutil.copy(image_path, destination)"
   ]
  }
 ],
 "metadata": {
  "kernelspec": {
   "display_name": "Python 3",
   "language": "python",
   "name": "python3"
  },
  "language_info": {
   "codemirror_mode": {
    "name": "ipython",
    "version": 3
   },
   "file_extension": ".py",
   "mimetype": "text/x-python",
   "name": "python",
   "nbconvert_exporter": "python",
   "pygments_lexer": "ipython3",
   "version": "3.11.3"
  },
  "orig_nbformat": 4
 },
 "nbformat": 4,
 "nbformat_minor": 2
}
